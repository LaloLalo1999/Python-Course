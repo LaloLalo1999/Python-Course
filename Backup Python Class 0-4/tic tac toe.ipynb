{
 "metadata": {
  "language_info": {
   "codemirror_mode": {
    "name": "ipython",
    "version": 3
   },
   "file_extension": ".py",
   "mimetype": "text/x-python",
   "name": "python",
   "nbconvert_exporter": "python",
   "pygments_lexer": "ipython3",
   "version": "3.8.5-final"
  },
  "orig_nbformat": 2,
  "kernelspec": {
   "name": "python3",
   "display_name": "Python 3.8.5 32-bit",
   "metadata": {
    "interpreter": {
     "hash": "8f2045fa273c20b76a3fb82c14cc03e246db28beb0812b377f5a8872da5b3ddc"
    }
   }
  }
 },
 "nbformat": 4,
 "nbformat_minor": 2,
 "cells": [
  {
   "cell_type": "code",
   "execution_count": 8,
   "metadata": {},
   "outputs": [],
   "source": [
    "from IPython.display import clear_output"
   ]
  },
  {
   "source": [
    "def game_board():\n",
    "    print(' ___________ ')\n",
    "    print(f'| {dic1[1]} | {dic1[2]} | {dic1[3]} |')\n",
    "    print('|___|___|___|')\n",
    "    print(f'| {dic1[4]} | {dic1[5]} | {dic1[6]} |')\n",
    "    print('|___|___|___|')\n",
    "    print(f'| {dic1[7]} | {dic1[8]} | {dic1[9]} |')\n",
    "    print('|___|___|___|')"
   ],
   "cell_type": "code",
   "metadata": {},
   "execution_count": 1,
   "outputs": []
  },
  {
   "cell_type": "code",
   "execution_count": 1,
   "metadata": {},
   "outputs": [],
   "source": [
    "def ask_game():\n",
    "    x = input('Do you want to start a new game? (Y/N):')\n",
    "    z = True\n",
    "    while z:\n",
    "        if x.upper() == 'Y':\n",
    "            return True\n",
    "            z = False\n",
    "        elif x.upper() == 'N':\n",
    "            return False\n",
    "            z = False\n",
    "        else:\n",
    "            x = input('Invalid answer, please type (Y/N)')"
   ]
  },
  {
   "cell_type": "code",
   "execution_count": 11,
   "metadata": {},
   "outputs": [],
   "source": [
    "def player1_x_o():\n",
    "    x = input('Player 1, what will you play as? (x/o):')\n",
    "    z = True\n",
    "    while z:\n",
    "        if x.lower() == 'x':\n",
    "            return 'Player 1'\n",
    "            z = False\n",
    "        elif x.lower() == 'o':\n",
    "            return 'Player 2'\n",
    "            z = False\n",
    "        else:\n",
    "            x = input('Invalid answer, please type (x/o)')"
   ]
  },
  {
   "cell_type": "code",
   "execution_count": 4,
   "metadata": {},
   "outputs": [],
   "source": [
    "def game_turn_x():\n",
    "    game_board()\n",
    "    valid = True\n",
    "    xdecision = int(input(f'{xplayer}, where do you want to put your piece? (1-9)'))\n",
    "    while valid:\n",
    "        if dic1[xdecision] == str(xdecision):\n",
    "            return xdecision\n",
    "            valid = False\n",
    "        elif dic1[xdecision] == 'x' or dic1[xdecision] == 'o':\n",
    "            print(\"There's already a piece there! Try again.\")\n",
    "            continue\n",
    "        else:\n",
    "            print('Invalid response, try again (1-9)')\n",
    "            continue"
   ]
  },
  {
   "cell_type": "code",
   "execution_count": 5,
   "metadata": {},
   "outputs": [],
   "source": [
    "def game_turn_o():\n",
    "    game_board()\n",
    "    valid = True\n",
    "    odecision = int(input(f'{oplayer}, where do you want to put your piece? (1-9)'))\n",
    "    while valid:\n",
    "        if dic1[odecision] == str(odecision):\n",
    "            return odecision\n",
    "            valid = False\n",
    "        elif dic1[odecision] == 'x' or dic1[odecision] == 'o':\n",
    "            print(\"There's already a piece there! Try again.\")\n",
    "            continue\n",
    "        else:\n",
    "            print('Invalid response, try again (1-9)')\n",
    "            continue"
   ]
  },
  {
   "cell_type": "code",
   "execution_count": 6,
   "metadata": {},
   "outputs": [],
   "source": [
    "def win_conditions():\n",
    "    won = 0\n",
    "    for dic in win_states_x:\n",
    "        common_x = dic.items() & dic1.items()\n",
    "        d = dic.items()\n",
    "        if common_x == d:\n",
    "            game_board()\n",
    "            won = int(xplayer[-1])\n",
    "            break\n",
    "        else:\n",
    "            continue\n",
    "    for dic in win_states_o:\n",
    "        common_o = dic.items() & dic1.items()\n",
    "        d = dic.items()\n",
    "        if common_o == d:\n",
    "            game_board()\n",
    "            won = int(oplayer[-1])\n",
    "            break\n",
    "    common_full = dic1.items() & stalemate.items()\n",
    "    if won == 1:\n",
    "        print('Player 1 won the game!')\n",
    "        return True\n",
    "    elif won == 2:\n",
    "        print('Player 2 won the game!')\n",
    "        return True\n",
    "    elif len(common_full) == 0:\n",
    "        print('Stalemate')\n",
    "        return True\n",
    "    else:\n",
    "        return False"
   ]
  },
  {
   "source": [
    "game_on = True\n",
    "win_states_x = [{1:'x',2:'x',3:'x'},{4:'x',5:'x',6:'x'},{7:'x',8:'x',9:'x'},{1:'x',4:'x',7:'x'},{2:'x',5:'x',8:'x'},{3:'x',6:'x',9:'x'},{1:'x',5:'x',9:'x'},{3:'x',5:'x',7:'x'}]\n",
    "win_states_o = [{1:'o',2:'o',3:'o'},{4:'o',5:'o',6:'o'},{7:'o',8:'o',9:'o'},{1:'o',4:'o',7:'o'},{2:'o',5:'o',8:'o'},{3:'o',6:'o',9:'o'},{1:'o',5:'o',9:'o'},{3:'o',5:'o',7:'o'}]\n",
    "stalemate = {1:'1',2:'2',3:'3',4:'4',5:'5',6:'6',7:'7',8:'8',9:'9'}\n",
    "while game_on:\n",
    "    dic1 = {1:'1',2:'2',3:'3',4:'4',5:'5',6:'6',7:'7',8:'8',9:'9'}\n",
    "    x_or_o = 'x'\n",
    "    won = 0\n",
    "    winner1 = False\n",
    "    xplayer = 'Player 1'\n",
    "    oplayer = 'Player 2'\n",
    "    game_on = ask_game()\n",
    "    if game_on == False:\n",
    "        break\n",
    "    xplayer = player1_x_o()\n",
    "    if xplayer == 'Player 2':\n",
    "        oplayer = 'Player 1'\n",
    "    else:\n",
    "        xplayer = 'Player 1'\n",
    "        oplayer = 'Player 2'\n",
    "    while winner1 == False:\n",
    "        clear_output()\n",
    "        xplayerchoice = game_turn_x()\n",
    "        dic1[xplayerchoice] = 'x'\n",
    "        winner1 = win_conditions()\n",
    "        if winner1:\n",
    "            continue\n",
    "        clear_output()\n",
    "        oplayerchoice = game_turn_o()\n",
    "        dic1[oplayerchoice] = 'o'\n",
    "        winner1 = win_conditions()"
   ],
   "cell_type": "code",
   "metadata": {},
   "execution_count": 12,
   "outputs": [
    {
     "output_type": "stream",
     "name": "stdout",
     "text": [
      " ___________ \n",
      "| x | o | 3 |\n",
      "|___|___|___|\n",
      "| x | o | 6 |\n",
      "|___|___|___|\n",
      "| 7 | 8 | 9 |\n",
      "|___|___|___|\n",
      " ___________ \n",
      "| x | o | 3 |\n",
      "|___|___|___|\n",
      "| x | o | 6 |\n",
      "|___|___|___|\n",
      "| x | 8 | 9 |\n",
      "|___|___|___|\n",
      "Player 2 won the game!\n"
     ]
    },
    {
     "output_type": "error",
     "ename": "KeyboardInterrupt",
     "evalue": "Interrupted by user",
     "traceback": [
      "\u001b[1;31m---------------------------------------------------------------------------\u001b[0m",
      "\u001b[1;31mKeyboardInterrupt\u001b[0m                         Traceback (most recent call last)",
      "\u001b[1;32m<ipython-input-12-0da9f2c1650d>\u001b[0m in \u001b[0;36m<module>\u001b[1;34m\u001b[0m\n\u001b[0;32m     10\u001b[0m     \u001b[0mxplayer\u001b[0m \u001b[1;33m=\u001b[0m \u001b[1;34m'Player 1'\u001b[0m\u001b[1;33m\u001b[0m\u001b[1;33m\u001b[0m\u001b[0m\n\u001b[0;32m     11\u001b[0m     \u001b[0moplayer\u001b[0m \u001b[1;33m=\u001b[0m \u001b[1;34m'Player 2'\u001b[0m\u001b[1;33m\u001b[0m\u001b[1;33m\u001b[0m\u001b[0m\n\u001b[1;32m---> 12\u001b[1;33m     \u001b[0mgame_on\u001b[0m \u001b[1;33m=\u001b[0m \u001b[0mask_game\u001b[0m\u001b[1;33m(\u001b[0m\u001b[1;33m)\u001b[0m\u001b[1;33m\u001b[0m\u001b[1;33m\u001b[0m\u001b[0m\n\u001b[0m\u001b[0;32m     13\u001b[0m     \u001b[1;32mif\u001b[0m \u001b[0mgame_on\u001b[0m \u001b[1;33m==\u001b[0m \u001b[1;32mFalse\u001b[0m\u001b[1;33m:\u001b[0m\u001b[1;33m\u001b[0m\u001b[1;33m\u001b[0m\u001b[0m\n\u001b[0;32m     14\u001b[0m         \u001b[1;32mbreak\u001b[0m\u001b[1;33m\u001b[0m\u001b[1;33m\u001b[0m\u001b[0m\n",
      "\u001b[1;32m<ipython-input-10-fe94f6d738e6>\u001b[0m in \u001b[0;36mask_game\u001b[1;34m()\u001b[0m\n\u001b[0;32m     10\u001b[0m             \u001b[0mz\u001b[0m \u001b[1;33m=\u001b[0m \u001b[1;32mFalse\u001b[0m\u001b[1;33m\u001b[0m\u001b[1;33m\u001b[0m\u001b[0m\n\u001b[0;32m     11\u001b[0m         \u001b[1;32melse\u001b[0m\u001b[1;33m:\u001b[0m\u001b[1;33m\u001b[0m\u001b[1;33m\u001b[0m\u001b[0m\n\u001b[1;32m---> 12\u001b[1;33m             \u001b[0mx\u001b[0m \u001b[1;33m=\u001b[0m \u001b[0minput\u001b[0m\u001b[1;33m(\u001b[0m\u001b[1;34m'Invalid answer, please type (Y/N)'\u001b[0m\u001b[1;33m)\u001b[0m\u001b[1;33m\u001b[0m\u001b[1;33m\u001b[0m\u001b[0m\n\u001b[0m",
      "\u001b[1;32m~\\AppData\\Roaming\\Python\\Python38\\site-packages\\ipykernel\\kernelbase.py\u001b[0m in \u001b[0;36mraw_input\u001b[1;34m(self, prompt)\u001b[0m\n\u001b[0;32m    858\u001b[0m                 \u001b[1;34m\"raw_input was called, but this frontend does not support input requests.\"\u001b[0m\u001b[1;33m\u001b[0m\u001b[1;33m\u001b[0m\u001b[0m\n\u001b[0;32m    859\u001b[0m             )\n\u001b[1;32m--> 860\u001b[1;33m         return self._input_request(str(prompt),\n\u001b[0m\u001b[0;32m    861\u001b[0m             \u001b[0mself\u001b[0m\u001b[1;33m.\u001b[0m\u001b[0m_parent_ident\u001b[0m\u001b[1;33m,\u001b[0m\u001b[1;33m\u001b[0m\u001b[1;33m\u001b[0m\u001b[0m\n\u001b[0;32m    862\u001b[0m             \u001b[0mself\u001b[0m\u001b[1;33m.\u001b[0m\u001b[0m_parent_header\u001b[0m\u001b[1;33m,\u001b[0m\u001b[1;33m\u001b[0m\u001b[1;33m\u001b[0m\u001b[0m\n",
      "\u001b[1;32m~\\AppData\\Roaming\\Python\\Python38\\site-packages\\ipykernel\\kernelbase.py\u001b[0m in \u001b[0;36m_input_request\u001b[1;34m(self, prompt, ident, parent, password)\u001b[0m\n\u001b[0;32m    902\u001b[0m             \u001b[1;32mexcept\u001b[0m \u001b[0mKeyboardInterrupt\u001b[0m\u001b[1;33m:\u001b[0m\u001b[1;33m\u001b[0m\u001b[1;33m\u001b[0m\u001b[0m\n\u001b[0;32m    903\u001b[0m                 \u001b[1;31m# re-raise KeyboardInterrupt, to truncate traceback\u001b[0m\u001b[1;33m\u001b[0m\u001b[1;33m\u001b[0m\u001b[1;33m\u001b[0m\u001b[0m\n\u001b[1;32m--> 904\u001b[1;33m                 \u001b[1;32mraise\u001b[0m \u001b[0mKeyboardInterrupt\u001b[0m\u001b[1;33m(\u001b[0m\u001b[1;34m\"Interrupted by user\"\u001b[0m\u001b[1;33m)\u001b[0m \u001b[1;32mfrom\u001b[0m \u001b[1;32mNone\u001b[0m\u001b[1;33m\u001b[0m\u001b[1;33m\u001b[0m\u001b[0m\n\u001b[0m\u001b[0;32m    905\u001b[0m             \u001b[1;32mexcept\u001b[0m \u001b[0mException\u001b[0m \u001b[1;32mas\u001b[0m \u001b[0me\u001b[0m\u001b[1;33m:\u001b[0m\u001b[1;33m\u001b[0m\u001b[1;33m\u001b[0m\u001b[0m\n\u001b[0;32m    906\u001b[0m                 \u001b[0mself\u001b[0m\u001b[1;33m.\u001b[0m\u001b[0mlog\u001b[0m\u001b[1;33m.\u001b[0m\u001b[0mwarning\u001b[0m\u001b[1;33m(\u001b[0m\u001b[1;34m\"Invalid Message:\"\u001b[0m\u001b[1;33m,\u001b[0m \u001b[0mexc_info\u001b[0m\u001b[1;33m=\u001b[0m\u001b[1;32mTrue\u001b[0m\u001b[1;33m)\u001b[0m\u001b[1;33m\u001b[0m\u001b[1;33m\u001b[0m\u001b[0m\n",
      "\u001b[1;31mKeyboardInterrupt\u001b[0m: Interrupted by user"
     ]
    }
   ]
  },
  {
   "cell_type": "code",
   "execution_count": null,
   "metadata": {},
   "outputs": [],
   "source": []
  }
 ]
}