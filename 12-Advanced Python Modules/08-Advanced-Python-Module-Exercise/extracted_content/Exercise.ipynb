{
 "cells": [
  {
   "cell_type": "code",
   "execution_count": 1,
   "metadata": {},
   "outputs": [],
   "source": [
    "import os\n",
    "import shutil\n",
    "import re"
   ]
  },
  {
   "cell_type": "code",
   "execution_count": 3,
   "metadata": {},
   "outputs": [
    {
     "data": {
      "text/plain": [
       "'/home/lalo/Downloads/Complete-Python-3-Bootcamp-master/12-Advanced Python Modules/08-Advanced-Python-Module-Exercise/extracted_content'"
      ]
     },
     "execution_count": 3,
     "metadata": {},
     "output_type": "execute_result"
    }
   ],
   "source": [
    "os.getcwd()"
   ]
  },
  {
   "cell_type": "code",
   "execution_count": 18,
   "metadata": {},
   "outputs": [
    {
     "name": "stdout",
     "output_type": "stream",
     "text": [
      "One/PQNVCVJINAR.txt\n",
      "One/PTOBBCJYURJ.txt\n",
      "One/PHWAVPEKAER.txt\n",
      "One/KNBSKDREHQU.txt\n",
      "One/HVUTZEVMSBW.txt\n",
      "One/KMMLGJOWLGI.txt\n",
      "One/PDJMSMNKIRM.txt\n",
      "One/JQUOBKFUACN.txt\n",
      "One/LPNDVDXPZIG.txt\n",
      "One/KCXGNQCZBLO.txt\n",
      "One/LDGOCUQJNNS.txt\n",
      "One/LHODFIKVTQA.txt\n",
      "One/HRQFTHKVJTL.txt\n",
      "One/PLYCGPVEAWO.txt\n",
      "One/JDLRVFCXYLU.txt\n",
      "One/KFIUZFERLET.txt\n",
      "One/LIFDHOFKWOI.txt\n",
      "One/HFUTPPAXDIS.txt\n",
      "One/JLTXKIGCWDL.txt\n",
      "One/LFEATJAAYDC.txt\n",
      "One/HMNZTLIFGPD.txt\n",
      "One/HDOHZHFSTTK.txt\n",
      "One/KTXDHIOKAUI.txt\n",
      "One/JEHBLZPUPSP.txt\n",
      "One/JTHSNBNPQSE.txt\n"
     ]
    }
   ],
   "source": [
    "for root,dirs,files in os.walk(\"One\"):\n",
    "    for name in files:\n",
    "        print(os.path.join(root, name))\n",
    "    for name in dirs:\n",
    "        print(os.path.join(root, name))"
   ]
  },
  {
   "cell_type": "code",
   "execution_count": 40,
   "metadata": {},
   "outputs": [],
   "source": [
    "for root,dirs,files in os.walk(\"One\"):\n",
    "    for name in files:\n",
    "        open_file = open(os.path.join(root, name))\n",
    "        for txt_line in open_file:\n",
    "            if re.search(r'\\d{3}-\\d{3}-\\d{4}',txt_line):\n",
    "                print(re.search(r'\\d{3}-\\d{3}-\\d{4}',txt_line))"
   ]
  },
  {
   "cell_type": "code",
   "execution_count": 41,
   "metadata": {},
   "outputs": [],
   "source": [
    "for root,dirs,files in os.walk(\"Two\"):\n",
    "    for name in files:\n",
    "        open_file = open(os.path.join(root, name))\n",
    "        for txt_line in open_file:\n",
    "            if re.search(r'\\d{3}-\\d{3}-\\d{4}',txt_line):\n",
    "                print(re.search(r'\\d{3}-\\d{3}-\\d{4}',txt_line))"
   ]
  },
  {
   "cell_type": "code",
   "execution_count": 42,
   "metadata": {},
   "outputs": [],
   "source": [
    "for root,dirs,files in os.walk(\"Three\"):\n",
    "    for name in files:\n",
    "        open_file = open(os.path.join(root, name))\n",
    "        for txt_line in open_file:\n",
    "            if re.search(r'\\d{3}-\\d{3}-\\d{4}',txt_line):\n",
    "                print(re.search(r'\\d{3}-\\d{3}-\\d{4}',txt_line))"
   ]
  },
  {
   "cell_type": "code",
   "execution_count": 43,
   "metadata": {},
   "outputs": [
    {
     "name": "stdout",
     "output_type": "stream",
     "text": [
      "<re.Match object; span=(1062, 1074), match='719-266-2837'>\n"
     ]
    }
   ],
   "source": [
    "for root,dirs,files in os.walk(\"Four\"):\n",
    "    for name in files:\n",
    "        open_file = open(os.path.join(root, name))\n",
    "        for txt_line in open_file:\n",
    "            if re.search(r'\\d{3}-\\d{3}-\\d{4}',txt_line):\n",
    "                print(re.search(r'\\d{3}-\\d{3}-\\d{4}',txt_line))"
   ]
  },
  {
   "cell_type": "code",
   "execution_count": 44,
   "metadata": {},
   "outputs": [],
   "source": [
    "for root,dirs,files in os.walk(\"Five\"):\n",
    "    for name in files:\n",
    "        open_file = open(os.path.join(root, name))\n",
    "        for txt_line in open_file:\n",
    "            if re.search(r'\\d{3}-\\d{3}-\\d{4}',txt_line):\n",
    "                print(re.search(r'\\d{3}-\\d{3}-\\d{4}',txt_line))"
   ]
  },
  {
   "cell_type": "code",
   "execution_count": null,
   "metadata": {},
   "outputs": [],
   "source": []
  }
 ],
 "metadata": {
  "kernelspec": {
   "display_name": "Python 3",
   "language": "python",
   "name": "python3"
  },
  "language_info": {
   "codemirror_mode": {
    "name": "ipython",
    "version": 3
   },
   "file_extension": ".py",
   "mimetype": "text/x-python",
   "name": "python",
   "nbconvert_exporter": "python",
   "pygments_lexer": "ipython3",
   "version": "3.8.5"
  }
 },
 "nbformat": 4,
 "nbformat_minor": 4
}
