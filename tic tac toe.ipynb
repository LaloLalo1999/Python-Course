{
 "cells": [
  {
   "cell_type": "code",
   "execution_count": 1,
   "metadata": {},
   "outputs": [],
   "source": [
    "from IPython.display import clear_output"
   ]
  },
  {
   "cell_type": "code",
   "execution_count": 2,
   "metadata": {},
   "outputs": [],
   "source": [
    "def game_board():\n",
    "    print(' ___________ ')\n",
    "    print(f'| {dic1[1]} | {dic1[2]} | {dic1[3]} |')\n",
    "    print('|___|___|___|')\n",
    "    print(f'| {dic1[4]} | {dic1[5]} | {dic1[6]} |')\n",
    "    print('|___|___|___|')\n",
    "    print(f'| {dic1[7]} | {dic1[8]} | {dic1[9]} |')\n",
    "    print('|___|___|___|')"
   ]
  },
  {
   "cell_type": "code",
   "execution_count": 3,
   "metadata": {},
   "outputs": [],
   "source": [
    "def ask_game():\n",
    "    x = input('Do you want to start a new game? (Y/N):')\n",
    "    z = True\n",
    "    while z:\n",
    "        if x.upper() == 'Y':\n",
    "            return True\n",
    "            z = False\n",
    "        elif x.upper() == 'N':\n",
    "            return False\n",
    "            z = False\n",
    "        else:\n",
    "            x = input('Invalid answer, please type (Y/N)')"
   ]
  },
  {
   "cell_type": "code",
   "execution_count": 4,
   "metadata": {},
   "outputs": [],
   "source": [
    "def player1_x_o():\n",
    "    x = input('Player 1, what will you play as? (x/o):')\n",
    "    z = True\n",
    "    while z:\n",
    "        if x.lower() == 'x':\n",
    "            return 'Player 1'\n",
    "            z = False\n",
    "        elif x.lower() == 'o':\n",
    "            return 'Player 2'\n",
    "            z = False\n",
    "        else:\n",
    "            x = input('Invalid answer, please type (x/o)')"
   ]
  },
  {
   "cell_type": "code",
   "execution_count": 5,
   "metadata": {},
   "outputs": [],
   "source": [
    "def game_turn_x():\n",
    "    game_board()\n",
    "    valid = True\n",
    "    xdecision = int(input(f'{xplayer}, where do you want to put your piece? (1-9)'))\n",
    "    while valid:\n",
    "        if dic1[xdecision] == str(xdecision):\n",
    "            return xdecision\n",
    "            valid = False\n",
    "        elif dic1[xdecision] == 'x' or dic1[xdecision] == 'o':\n",
    "            print(\"There's already a piece there! Try again.\")\n",
    "            continue\n",
    "        else:\n",
    "            print('Invalid response, try again (1-9)')\n",
    "            continue"
   ]
  },
  {
   "cell_type": "code",
   "execution_count": 6,
   "metadata": {},
   "outputs": [],
   "source": [
    "def game_turn_o():\n",
    "    game_board()\n",
    "    valid = True\n",
    "    odecision = int(input(f'{oplayer}, where do you want to put your piece? (1-9)'))\n",
    "    while valid:\n",
    "        if dic1[odecision] == str(odecision):\n",
    "            return odecision\n",
    "            valid = False\n",
    "        elif dic1[odecision] == 'x' or dic1[odecision] == 'o':\n",
    "            print(\"There's already a piece there! Try again.\")\n",
    "            continue\n",
    "        else:\n",
    "            print('Invalid response, try again (1-9)')\n",
    "            continue"
   ]
  },
  {
   "cell_type": "code",
   "execution_count": 7,
   "metadata": {},
   "outputs": [],
   "source": [
    "def win_conditions():\n",
    "    won = 0\n",
    "    for dic in win_states_x:\n",
    "        common_x = dic.items() & dic1.items()\n",
    "        d = dic.items()\n",
    "        if common_x == d:\n",
    "            game_board()\n",
    "            won = int(xplayer[-1])\n",
    "            break\n",
    "        else:\n",
    "            continue\n",
    "    for dic in win_states_o:\n",
    "        common_o = dic.items() & dic1.items()\n",
    "        d = dic.items()\n",
    "        if common_o == d:\n",
    "            game_board()\n",
    "            won = int(oplayer[-1])\n",
    "            break\n",
    "    common_full = dic1.items() & stalemate.items()\n",
    "    if won == 1:\n",
    "        print('Player 1 won the game!')\n",
    "        return True\n",
    "    elif won == 2:\n",
    "        print('Player 2 won the game!')\n",
    "        return True\n",
    "    elif len(common_full) == 0:\n",
    "        print('Stalemate')\n",
    "        return True\n",
    "    else:\n",
    "        return False"
   ]
  },
  {
   "cell_type": "code",
   "execution_count": 8,
   "metadata": {},
   "outputs": [
    {
     "name": "stdout",
     "output_type": "stream",
     "text": [
      " ___________ \n",
      "| 1 | 2 | 3 |\n",
      "|___|___|___|\n",
      "| o | x | 6 |\n",
      "|___|___|___|\n",
      "| x | 8 | o |\n",
      "|___|___|___|\n"
     ]
    },
    {
     "name": "stdin",
     "output_type": "stream",
     "text": [
      "Player 2, where do you want to put your piece? (1-9) 3\n"
     ]
    },
    {
     "name": "stdout",
     "output_type": "stream",
     "text": [
      " ___________ \n",
      "| 1 | 2 | x |\n",
      "|___|___|___|\n",
      "| o | x | 6 |\n",
      "|___|___|___|\n",
      "| x | 8 | o |\n",
      "|___|___|___|\n",
      "Player 2 won the game!\n"
     ]
    },
    {
     "name": "stdin",
     "output_type": "stream",
     "text": [
      "Do you want to start a new game? (Y/N): N\n"
     ]
    }
   ],
   "source": [
    "game_on = True\n",
    "win_states_x = [{1:'x',2:'x',3:'x'},{4:'x',5:'x',6:'x'},{7:'x',8:'x',9:'x'},{1:'x',4:'x',7:'x'},{2:'x',5:'x',8:'x'},{3:'x',6:'x',9:'x'},{1:'x',5:'x',9:'x'},{3:'x',5:'x',7:'x'}]\n",
    "win_states_o = [{1:'o',2:'o',3:'o'},{4:'o',5:'o',6:'o'},{7:'o',8:'o',9:'o'},{1:'o',4:'o',7:'o'},{2:'o',5:'o',8:'o'},{3:'o',6:'o',9:'o'},{1:'o',5:'o',9:'o'},{3:'o',5:'o',7:'o'}]\n",
    "stalemate = {1:'1',2:'2',3:'3',4:'4',5:'5',6:'6',7:'7',8:'8',9:'9'}\n",
    "while game_on:\n",
    "    dic1 = {1:'1',2:'2',3:'3',4:'4',5:'5',6:'6',7:'7',8:'8',9:'9'}\n",
    "    x_or_o = 'x'\n",
    "    won = 0\n",
    "    winner1 = False\n",
    "    xplayer = 'Player 1'\n",
    "    oplayer = 'Player 2'\n",
    "    game_on = ask_game()\n",
    "    if game_on == False:\n",
    "        break\n",
    "    xplayer = player1_x_o()\n",
    "    if xplayer == 'Player 2':\n",
    "        oplayer = 'Player 1'\n",
    "    else:\n",
    "        xplayer = 'Player 1'\n",
    "        oplayer = 'Player 2'\n",
    "    while winner1 == False:\n",
    "        clear_output()\n",
    "        xplayerchoice = game_turn_x()\n",
    "        dic1[xplayerchoice] = 'x'\n",
    "        winner1 = win_conditions()\n",
    "        if winner1:\n",
    "            continue\n",
    "        clear_output()\n",
    "        oplayerchoice = game_turn_o()\n",
    "        dic1[oplayerchoice] = 'o'\n",
    "        winner1 = win_conditions()"
   ]
  },
  {
   "cell_type": "code",
   "execution_count": null,
   "metadata": {},
   "outputs": [],
   "source": []
  }
 ],
 "metadata": {
  "kernelspec": {
   "display_name": "Python 3",
   "language": "python",
   "name": "python3"
  },
  "language_info": {
   "codemirror_mode": {
    "name": "ipython",
    "version": 3
   },
   "file_extension": ".py",
   "mimetype": "text/x-python",
   "name": "python",
   "nbconvert_exporter": "python",
   "pygments_lexer": "ipython3",
   "version": "3.8.5"
  }
 },
 "nbformat": 4,
 "nbformat_minor": 4
}
